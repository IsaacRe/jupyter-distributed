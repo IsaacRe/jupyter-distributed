{
 "cells": [
  {
   "cell_type": "code",
   "execution_count": 1,
   "id": "94a49764-8332-41e7-9f41-876db00a6be5",
   "metadata": {},
   "outputs": [],
   "source": [
    "import multiprocess as mp"
   ]
  },
  {
   "cell_type": "code",
   "execution_count": 2,
   "id": "7037e534-337a-42bd-9645-8608ab3d759e",
   "metadata": {},
   "outputs": [
    {
     "name": "stdout",
     "output_type": "stream",
     "text": [
      "hello from proc 0hello from proc 2hello from proc 1hello from proc 3\n",
      "\n",
      "\n",
      "\n"
     ]
    }
   ],
   "source": [
    "np = 4\n",
    "pool = mp.Pool(np)"
   ]
  },
  {
   "cell_type": "code",
   "execution_count": 4,
   "id": "cb668beb-8771-45e9-bc35-e413544a2161",
   "metadata": {},
   "outputs": [
    {
     "data": {
      "text/plain": [
       "[None, None, None, None]"
      ]
     },
     "execution_count": 4,
     "metadata": {},
     "output_type": "execute_result"
    }
   ],
   "source": [
    "def process(args):\n",
    "    code, namespace, proc_id = args\n",
    "    print(f'hello from proc {proc_id}')\n",
    "\n",
    "args = [('', {}, i) for i in range(np)]\n",
    "\n",
    "pool.map(process, args)"
   ]
  },
  {
   "cell_type": "code",
   "execution_count": 1,
   "id": "04345701-9d5b-499c-a99d-a93ec7f3bec6",
   "metadata": {},
   "outputs": [
    {
     "name": "stdout",
     "output_type": "stream",
     "text": [
      "Jupyter Distributed extension loaded. Use %distribute n to run cells in parallel.\n"
     ]
    }
   ],
   "source": [
    "%load_ext jupyter_distributed"
   ]
  },
  {
   "cell_type": "code",
   "execution_count": null,
   "id": "a035ed18-db47-457f-b83b-281220c3e86b",
   "metadata": {},
   "outputs": [
    {
     "name": "stdout",
     "output_type": "stream",
     "text": [
      "Distributing execution across 4 processes...\n",
      "> \u001b[32m/Users/isaacrehg/workspace/jupyter-distributed/jupyter_distributed/magic.py\u001b[39m(\u001b[92m160\u001b[39m)\u001b[36mdistribute\u001b[39m\u001b[34m()\u001b[39m\n",
      "\u001b[32m    158\u001b[39m         \u001b[38;5;28;01mimport\u001b[39;00m pdb; pdb.set_trace()\n",
      "\u001b[32m    159\u001b[39m \n",
      "\u001b[32m--> 160\u001b[39m         \u001b[38;5;28;01mtry\u001b[39;00m:\n",
      "\u001b[32m    161\u001b[39m             \u001b[38;5;66;03m# Execute in parallel\u001b[39;00m\n",
      "\u001b[32m    162\u001b[39m             \u001b[38;5;28;01mif\u001b[39;00m args.timeout:\n",
      "\n"
     ]
    },
    {
     "name": "stdin",
     "output_type": "stream",
     "text": [
      "ipdb>  s\n"
     ]
    },
    {
     "name": "stdout",
     "output_type": "stream",
     "text": [
      "> \u001b[32m/Users/isaacrehg/workspace/jupyter-distributed/jupyter_distributed/magic.py\u001b[39m(\u001b[92m162\u001b[39m)\u001b[36mdistribute\u001b[39m\u001b[34m()\u001b[39m\n",
      "\u001b[32m    160\u001b[39m         \u001b[38;5;28;01mtry\u001b[39;00m:\n",
      "\u001b[32m    161\u001b[39m             \u001b[38;5;66;03m# Execute in parallel\u001b[39;00m\n",
      "\u001b[32m--> 162\u001b[39m             \u001b[38;5;28;01mif\u001b[39;00m args.timeout:\n",
      "\u001b[32m    163\u001b[39m                 results = pool.map_async(self._execute_in_process, process_args).get(timeout=args.timeout)\n",
      "\u001b[32m    164\u001b[39m             \u001b[38;5;28;01melse\u001b[39;00m:\n",
      "\n"
     ]
    },
    {
     "name": "stdin",
     "output_type": "stream",
     "text": [
      "ipdb>  n\n"
     ]
    },
    {
     "name": "stdout",
     "output_type": "stream",
     "text": [
      "> \u001b[32m/Users/isaacrehg/workspace/jupyter-distributed/jupyter_distributed/magic.py\u001b[39m(\u001b[92m165\u001b[39m)\u001b[36mdistribute\u001b[39m\u001b[34m()\u001b[39m\n",
      "\u001b[32m    163\u001b[39m                 results = pool.map_async(self._execute_in_process, process_args).get(timeout=args.timeout)\n",
      "\u001b[32m    164\u001b[39m             \u001b[38;5;28;01melse\u001b[39;00m:\n",
      "\u001b[32m--> 165\u001b[39m                 results = pool.map(self._execute_in_process, [(\u001b[33m''\u001b[39m, {}, i) \u001b[38;5;28;01mfor\u001b[39;00m i \u001b[38;5;28;01min\u001b[39;00m range(n_processes)])\n",
      "\u001b[32m    166\u001b[39m \n",
      "\u001b[32m    167\u001b[39m             execution_time = time.time() - start_time\n",
      "\n"
     ]
    },
    {
     "name": "stdin",
     "output_type": "stream",
     "text": [
      "ipdb>  s\n"
     ]
    },
    {
     "name": "stdout",
     "output_type": "stream",
     "text": [
      "--Call--\n",
      "> \u001b[32m/Users/isaacrehg/workspace/jupyter-distributed/jupyter_distributed/magic.py\u001b[39m(\u001b[92m165\u001b[39m)\u001b[36m<listcomp>\u001b[39m\u001b[34m()\u001b[39m\n",
      "\u001b[32m    163\u001b[39m                 results = pool.map_async(self._execute_in_process, process_args).get(timeout=args.timeout)\n",
      "\u001b[32m    164\u001b[39m             \u001b[38;5;28;01melse\u001b[39;00m:\n",
      "\u001b[32m--> 165\u001b[39m                 results = pool.map(self._execute_in_process, [(\u001b[33m''\u001b[39m, {}, i) \u001b[38;5;28;01mfor\u001b[39;00m i \u001b[38;5;28;01min\u001b[39;00m range(n_processes)])\n",
      "\u001b[32m    166\u001b[39m \n",
      "\u001b[32m    167\u001b[39m             execution_time = time.time() - start_time\n",
      "\n"
     ]
    },
    {
     "name": "stdin",
     "output_type": "stream",
     "text": [
      "ipdb>  s\n"
     ]
    },
    {
     "name": "stdout",
     "output_type": "stream",
     "text": [
      "> \u001b[32m/Users/isaacrehg/workspace/jupyter-distributed/jupyter_distributed/magic.py\u001b[39m(\u001b[92m165\u001b[39m)\u001b[36m<listcomp>\u001b[39m\u001b[34m()\u001b[39m\n",
      "\u001b[32m    163\u001b[39m                 results = pool.map_async(self._execute_in_process, process_args).get(timeout=args.timeout)\n",
      "\u001b[32m    164\u001b[39m             \u001b[38;5;28;01melse\u001b[39;00m:\n",
      "\u001b[32m--> 165\u001b[39m                 results = pool.map(self._execute_in_process, [(\u001b[33m''\u001b[39m, {}, i) \u001b[38;5;28;01mfor\u001b[39;00m i \u001b[38;5;28;01min\u001b[39;00m range(n_processes)])\n",
      "\u001b[32m    166\u001b[39m \n",
      "\u001b[32m    167\u001b[39m             execution_time = time.time() - start_time\n",
      "\n"
     ]
    },
    {
     "name": "stdin",
     "output_type": "stream",
     "text": [
      "ipdb>  s\n"
     ]
    },
    {
     "name": "stdout",
     "output_type": "stream",
     "text": [
      "> \u001b[32m/Users/isaacrehg/workspace/jupyter-distributed/jupyter_distributed/magic.py\u001b[39m(\u001b[92m165\u001b[39m)\u001b[36m<listcomp>\u001b[39m\u001b[34m()\u001b[39m\n",
      "\u001b[32m    163\u001b[39m                 results = pool.map_async(self._execute_in_process, process_args).get(timeout=args.timeout)\n",
      "\u001b[32m    164\u001b[39m             \u001b[38;5;28;01melse\u001b[39;00m:\n",
      "\u001b[32m--> 165\u001b[39m                 results = pool.map(self._execute_in_process, [(\u001b[33m''\u001b[39m, {}, i) \u001b[38;5;28;01mfor\u001b[39;00m i \u001b[38;5;28;01min\u001b[39;00m range(n_processes)])\n",
      "\u001b[32m    166\u001b[39m \n",
      "\u001b[32m    167\u001b[39m             execution_time = time.time() - start_time\n",
      "\n"
     ]
    },
    {
     "name": "stdin",
     "output_type": "stream",
     "text": [
      "ipdb>  s\n"
     ]
    },
    {
     "name": "stdout",
     "output_type": "stream",
     "text": [
      "> \u001b[32m/Users/isaacrehg/workspace/jupyter-distributed/jupyter_distributed/magic.py\u001b[39m(\u001b[92m165\u001b[39m)\u001b[36m<listcomp>\u001b[39m\u001b[34m()\u001b[39m\n",
      "\u001b[32m    163\u001b[39m                 results = pool.map_async(self._execute_in_process, process_args).get(timeout=args.timeout)\n",
      "\u001b[32m    164\u001b[39m             \u001b[38;5;28;01melse\u001b[39;00m:\n",
      "\u001b[32m--> 165\u001b[39m                 results = pool.map(self._execute_in_process, [(\u001b[33m''\u001b[39m, {}, i) \u001b[38;5;28;01mfor\u001b[39;00m i \u001b[38;5;28;01min\u001b[39;00m range(n_processes)])\n",
      "\u001b[32m    166\u001b[39m \n",
      "\u001b[32m    167\u001b[39m             execution_time = time.time() - start_time\n",
      "\n"
     ]
    },
    {
     "name": "stdin",
     "output_type": "stream",
     "text": [
      "ipdb>  s\n"
     ]
    },
    {
     "name": "stdout",
     "output_type": "stream",
     "text": [
      "> \u001b[32m/Users/isaacrehg/workspace/jupyter-distributed/jupyter_distributed/magic.py\u001b[39m(\u001b[92m165\u001b[39m)\u001b[36m<listcomp>\u001b[39m\u001b[34m()\u001b[39m\n",
      "\u001b[32m    163\u001b[39m                 results = pool.map_async(self._execute_in_process, process_args).get(timeout=args.timeout)\n",
      "\u001b[32m    164\u001b[39m             \u001b[38;5;28;01melse\u001b[39;00m:\n",
      "\u001b[32m--> 165\u001b[39m                 results = pool.map(self._execute_in_process, [(\u001b[33m''\u001b[39m, {}, i) \u001b[38;5;28;01mfor\u001b[39;00m i \u001b[38;5;28;01min\u001b[39;00m range(n_processes)])\n",
      "\u001b[32m    166\u001b[39m \n",
      "\u001b[32m    167\u001b[39m             execution_time = time.time() - start_time\n",
      "\n"
     ]
    },
    {
     "name": "stdin",
     "output_type": "stream",
     "text": [
      "ipdb>  s\n"
     ]
    },
    {
     "name": "stdout",
     "output_type": "stream",
     "text": [
      "> \u001b[32m/Users/isaacrehg/workspace/jupyter-distributed/jupyter_distributed/magic.py\u001b[39m(\u001b[92m165\u001b[39m)\u001b[36m<listcomp>\u001b[39m\u001b[34m()\u001b[39m\n",
      "\u001b[32m    163\u001b[39m                 results = pool.map_async(self._execute_in_process, process_args).get(timeout=args.timeout)\n",
      "\u001b[32m    164\u001b[39m             \u001b[38;5;28;01melse\u001b[39;00m:\n",
      "\u001b[32m--> 165\u001b[39m                 results = pool.map(self._execute_in_process, [(\u001b[33m''\u001b[39m, {}, i) \u001b[38;5;28;01mfor\u001b[39;00m i \u001b[38;5;28;01min\u001b[39;00m range(n_processes)])\n",
      "\u001b[32m    166\u001b[39m \n",
      "\u001b[32m    167\u001b[39m             execution_time = time.time() - start_time\n",
      "\n"
     ]
    },
    {
     "name": "stdin",
     "output_type": "stream",
     "text": [
      "ipdb>  s\n"
     ]
    },
    {
     "name": "stdout",
     "output_type": "stream",
     "text": [
      "--Return--\n",
      "[('', {}, 0), ('', {}, 1), ('', {}, 2), ('', {}, 3)]\n",
      "> \u001b[32m/Users/isaacrehg/workspace/jupyter-distributed/jupyter_distributed/magic.py\u001b[39m(\u001b[92m165\u001b[39m)\u001b[36m<listcomp>\u001b[39m\u001b[34m()\u001b[39m\n",
      "\u001b[32m    163\u001b[39m                 results = pool.map_async(self._execute_in_process, process_args).get(timeout=args.timeout)\n",
      "\u001b[32m    164\u001b[39m             \u001b[38;5;28;01melse\u001b[39;00m:\n",
      "\u001b[32m--> 165\u001b[39m                 results = pool.map(self._execute_in_process, [(\u001b[33m''\u001b[39m, {}, i) \u001b[38;5;28;01mfor\u001b[39;00m i \u001b[38;5;28;01min\u001b[39;00m range(n_processes)])\n",
      "\u001b[32m    166\u001b[39m \n",
      "\u001b[32m    167\u001b[39m             execution_time = time.time() - start_time\n",
      "\n"
     ]
    },
    {
     "name": "stdin",
     "output_type": "stream",
     "text": [
      "ipdb>  s\n"
     ]
    },
    {
     "name": "stdout",
     "output_type": "stream",
     "text": [
      "--Call--\n",
      "> \u001b[32m/Users/isaacrehg/workspace/jupyter-distributed/.venv/lib/python3.11/site-packages/multiprocess/pool.py\u001b[39m(\u001b[92m362\u001b[39m)\u001b[36mmap\u001b[39m\u001b[34m()\u001b[39m\n",
      "\u001b[32m    360\u001b[39m         \u001b[38;5;28;01mreturn\u001b[39;00m self.apply_async(func, args, kwds).get()\n",
      "\u001b[32m    361\u001b[39m \n",
      "\u001b[32m--> 362\u001b[39m     \u001b[38;5;28;01mdef\u001b[39;00m map(self, func, iterable, chunksize=\u001b[38;5;28;01mNone\u001b[39;00m):\n",
      "\u001b[32m    363\u001b[39m         '''\n",
      "\u001b[32m    364\u001b[39m         Apply `func` to each element \u001b[38;5;28;01min\u001b[39;00m `iterable`, collecting the results\n",
      "\n"
     ]
    },
    {
     "name": "stdin",
     "output_type": "stream",
     "text": [
      "ipdb>  l\n"
     ]
    },
    {
     "name": "stdout",
     "output_type": "stream",
     "text": [
      "\u001b[92m    357\u001b[39m         Equivalent of `func(*args, **kwds)`.\n",
      "\u001b[92m    358\u001b[39m         Pool must be running.\n",
      "\u001b[92m    359\u001b[39m         '''\n",
      "\u001b[92m    360\u001b[39m         \u001b[38;5;28;01mreturn\u001b[39;00m self.apply_async(func, args, kwds).get()\n",
      "\u001b[92m    361\u001b[39m \n",
      "\u001b[32m--> 362\u001b[39m     \u001b[38;5;28;01mdef\u001b[39;00m map(self, func, iterable, chunksize=\u001b[38;5;28;01mNone\u001b[39;00m):\n",
      "\u001b[92m    363\u001b[39m         '''\n",
      "\u001b[92m    364\u001b[39m         Apply `func` to each element \u001b[38;5;28;01min\u001b[39;00m `iterable`, collecting the results\n",
      "\u001b[92m    365\u001b[39m         \u001b[38;5;28;01min\u001b[39;00m a list that \u001b[38;5;28;01mis\u001b[39;00m returned.\n",
      "\u001b[92m    366\u001b[39m         '''\n",
      "\u001b[92m    367\u001b[39m         \u001b[38;5;28;01mreturn\u001b[39;00m self._map_async(func, iterable, mapstar, chunksize).get()\n",
      "\n"
     ]
    },
    {
     "name": "stdin",
     "output_type": "stream",
     "text": [
      "ipdb>  n\n"
     ]
    },
    {
     "name": "stdout",
     "output_type": "stream",
     "text": [
      "> \u001b[32m/Users/isaacrehg/workspace/jupyter-distributed/.venv/lib/python3.11/site-packages/multiprocess/pool.py\u001b[39m(\u001b[92m367\u001b[39m)\u001b[36mmap\u001b[39m\u001b[34m()\u001b[39m\n",
      "\u001b[32m    365\u001b[39m         \u001b[38;5;28;01min\u001b[39;00m a list that \u001b[38;5;28;01mis\u001b[39;00m returned.\n",
      "\u001b[32m    366\u001b[39m         '''\n",
      "\u001b[32m--> 367\u001b[39m         \u001b[38;5;28;01mreturn\u001b[39;00m self._map_async(func, iterable, mapstar, chunksize).get()\n",
      "\u001b[32m    368\u001b[39m \n",
      "\u001b[32m    369\u001b[39m     \u001b[38;5;28;01mdef\u001b[39;00m starmap(self, func, iterable, chunksize=\u001b[38;5;28;01mNone\u001b[39;00m):\n",
      "\n"
     ]
    },
    {
     "name": "stdin",
     "output_type": "stream",
     "text": [
      "ipdb>  s\n"
     ]
    },
    {
     "name": "stdout",
     "output_type": "stream",
     "text": [
      "--Call--\n",
      "> \u001b[32m/Users/isaacrehg/workspace/jupyter-distributed/.venv/lib/python3.11/site-packages/multiprocess/pool.py\u001b[39m(\u001b[92m471\u001b[39m)\u001b[36m_map_async\u001b[39m\u001b[34m()\u001b[39m\n",
      "\u001b[32m    469\u001b[39m             error_callback)\n",
      "\u001b[32m    470\u001b[39m \n",
      "\u001b[32m--> 471\u001b[39m     def _map_async(self, func, iterable, mapper, chunksize=None, callback=None,\n",
      "\u001b[32m    472\u001b[39m             error_callback=None):\n",
      "\u001b[32m    473\u001b[39m         '''\n",
      "\n"
     ]
    },
    {
     "name": "stdin",
     "output_type": "stream",
     "text": [
      "ipdb>  l\n"
     ]
    },
    {
     "name": "stdout",
     "output_type": "stream",
     "text": [
      "\u001b[92m    466\u001b[39m         Asynchronous version of `map()` method.\n",
      "\u001b[92m    467\u001b[39m         '''\n",
      "\u001b[92m    468\u001b[39m         return self._map_async(func, iterable, mapstar, chunksize, callback,\n",
      "\u001b[92m    469\u001b[39m             error_callback)\n",
      "\u001b[92m    470\u001b[39m \n",
      "\u001b[32m--> 471\u001b[39m     def _map_async(self, func, iterable, mapper, chunksize=None, callback=None,\n",
      "\u001b[92m    472\u001b[39m             error_callback=None):\n",
      "\u001b[92m    473\u001b[39m         '''\n",
      "\u001b[92m    474\u001b[39m         Helper function to implement map, starmap \u001b[38;5;28;01mand\u001b[39;00m their \u001b[38;5;28;01masync\u001b[39;00m counterparts.\n",
      "\u001b[92m    475\u001b[39m         '''\n",
      "\u001b[92m    476\u001b[39m         self._check_running()\n",
      "\n"
     ]
    },
    {
     "name": "stdin",
     "output_type": "stream",
     "text": [
      "ipdb>  \n"
     ]
    },
    {
     "name": "stdout",
     "output_type": "stream",
     "text": [
      "\u001b[92m    477\u001b[39m         \u001b[38;5;28;01mif\u001b[39;00m \u001b[38;5;28;01mnot\u001b[39;00m hasattr(iterable, \u001b[33m'__len__'\u001b[39m):\n",
      "\u001b[92m    478\u001b[39m             iterable = list(iterable)\n",
      "\u001b[92m    479\u001b[39m \n",
      "\u001b[92m    480\u001b[39m         \u001b[38;5;28;01mif\u001b[39;00m chunksize \u001b[38;5;28;01mis\u001b[39;00m \u001b[38;5;28;01mNone\u001b[39;00m:\n",
      "\u001b[92m    481\u001b[39m             chunksize, extra = divmod(len(iterable), len(self._pool) * \u001b[32m4\u001b[39m)\n",
      "\u001b[92m    482\u001b[39m             \u001b[38;5;28;01mif\u001b[39;00m extra:\n",
      "\u001b[92m    483\u001b[39m                 chunksize += \u001b[32m1\u001b[39m\n",
      "\u001b[92m    484\u001b[39m         \u001b[38;5;28;01mif\u001b[39;00m len(iterable) == \u001b[32m0\u001b[39m:\n",
      "\u001b[92m    485\u001b[39m             chunksize = \u001b[32m0\u001b[39m\n",
      "\u001b[92m    486\u001b[39m \n",
      "\u001b[92m    487\u001b[39m         task_batches = Pool._get_tasks(func, iterable, chunksize)\n",
      "\n"
     ]
    },
    {
     "name": "stdin",
     "output_type": "stream",
     "text": [
      "ipdb>  \n"
     ]
    },
    {
     "name": "stdout",
     "output_type": "stream",
     "text": [
      "\u001b[92m    488\u001b[39m         result = MapResult(self, chunksize, len(iterable), callback,\n",
      "\u001b[92m    489\u001b[39m                            error_callback=error_callback)\n",
      "\u001b[92m    490\u001b[39m         self._taskqueue.put(\n",
      "\u001b[92m    491\u001b[39m             (\n",
      "\u001b[92m    492\u001b[39m                 self._guarded_task_generation(result._job,\n",
      "\u001b[92m    493\u001b[39m                                               mapper,\n",
      "\u001b[92m    494\u001b[39m                                               task_batches),\n",
      "\u001b[92m    495\u001b[39m                 \u001b[38;5;28;01mNone\u001b[39;00m\n",
      "\u001b[92m    496\u001b[39m             )\n",
      "\u001b[92m    497\u001b[39m         )\n",
      "\u001b[92m    498\u001b[39m         \u001b[38;5;28;01mreturn\u001b[39;00m result\n",
      "\n"
     ]
    },
    {
     "name": "stdin",
     "output_type": "stream",
     "text": [
      "ipdb>  p __file__\n"
     ]
    },
    {
     "name": "stdout",
     "output_type": "stream",
     "text": [
      "'/Users/isaacrehg/workspace/jupyter-distributed/.venv/lib/python3.11/site-packages/multiprocess/pool.py'\n"
     ]
    },
    {
     "name": "stdin",
     "output_type": "stream",
     "text": [
      "ipdb>  \n"
     ]
    },
    {
     "name": "stdout",
     "output_type": "stream",
     "text": [
      "'/Users/isaacrehg/workspace/jupyter-distributed/.venv/lib/python3.11/site-packages/multiprocess/pool.py'\n"
     ]
    },
    {
     "name": "stdin",
     "output_type": "stream",
     "text": [
      "ipdb>  l\n"
     ]
    },
    {
     "name": "stdout",
     "output_type": "stream",
     "text": [
      "\u001b[92m    499\u001b[39m \n",
      "\u001b[92m    500\u001b[39m     @staticmethod\n",
      "\u001b[92m    501\u001b[39m     \u001b[38;5;28;01mdef\u001b[39;00m _wait_for_updates(sentinels, change_notifier, timeout=\u001b[38;5;28;01mNone\u001b[39;00m):\n",
      "\u001b[92m    502\u001b[39m         wait(sentinels, timeout=timeout)\n",
      "\u001b[92m    503\u001b[39m         \u001b[38;5;28;01mwhile\u001b[39;00m \u001b[38;5;28;01mnot\u001b[39;00m change_notifier.empty():\n",
      "\u001b[92m    504\u001b[39m             change_notifier.get()\n",
      "\u001b[92m    505\u001b[39m \n",
      "\u001b[92m    506\u001b[39m     @classmethod\n",
      "\u001b[92m    507\u001b[39m     def _handle_workers(cls, cache, taskqueue, ctx, Process, processes,\n",
      "\u001b[92m    508\u001b[39m                         pool, inqueue, outqueue, initializer, initargs,\n",
      "\u001b[92m    509\u001b[39m                         maxtasksperchild, wrap_exception, sentinels,\n",
      "\n"
     ]
    },
    {
     "name": "stdin",
     "output_type": "stream",
     "text": [
      "ipdb>  n\n"
     ]
    },
    {
     "name": "stdout",
     "output_type": "stream",
     "text": [
      "> \u001b[32m/Users/isaacrehg/workspace/jupyter-distributed/.venv/lib/python3.11/site-packages/multiprocess/pool.py\u001b[39m(\u001b[92m476\u001b[39m)\u001b[36m_map_async\u001b[39m\u001b[34m()\u001b[39m\n",
      "\u001b[32m    474\u001b[39m         Helper function to implement map, starmap \u001b[38;5;28;01mand\u001b[39;00m their \u001b[38;5;28;01masync\u001b[39;00m counterparts.\n",
      "\u001b[32m    475\u001b[39m         '''\n",
      "\u001b[32m--> 476\u001b[39m         self._check_running()\n",
      "\u001b[32m    477\u001b[39m         \u001b[38;5;28;01mif\u001b[39;00m \u001b[38;5;28;01mnot\u001b[39;00m hasattr(iterable, \u001b[33m'__len__'\u001b[39m):\n",
      "\u001b[32m    478\u001b[39m             iterable = list(iterable)\n",
      "\n"
     ]
    },
    {
     "name": "stdin",
     "output_type": "stream",
     "text": [
      "ipdb>  n\n"
     ]
    },
    {
     "name": "stdout",
     "output_type": "stream",
     "text": [
      "> \u001b[32m/Users/isaacrehg/workspace/jupyter-distributed/.venv/lib/python3.11/site-packages/multiprocess/pool.py\u001b[39m(\u001b[92m477\u001b[39m)\u001b[36m_map_async\u001b[39m\u001b[34m()\u001b[39m\n",
      "\u001b[32m    475\u001b[39m         '''\n",
      "\u001b[32m    476\u001b[39m         self._check_running()\n",
      "\u001b[32m--> 477\u001b[39m         \u001b[38;5;28;01mif\u001b[39;00m \u001b[38;5;28;01mnot\u001b[39;00m hasattr(iterable, \u001b[33m'__len__'\u001b[39m):\n",
      "\u001b[32m    478\u001b[39m             iterable = list(iterable)\n",
      "\u001b[32m    479\u001b[39m \n",
      "\n"
     ]
    },
    {
     "name": "stdin",
     "output_type": "stream",
     "text": [
      "ipdb>  l\n"
     ]
    },
    {
     "name": "stdout",
     "output_type": "stream",
     "text": [
      "\u001b[92m    472\u001b[39m             error_callback=None):\n",
      "\u001b[92m    473\u001b[39m         '''\n",
      "\u001b[92m    474\u001b[39m         Helper function to implement map, starmap \u001b[38;5;28;01mand\u001b[39;00m their \u001b[38;5;28;01masync\u001b[39;00m counterparts.\n",
      "\u001b[92m    475\u001b[39m         '''\n",
      "\u001b[92m    476\u001b[39m         self._check_running()\n",
      "\u001b[32m--> 477\u001b[39m         \u001b[38;5;28;01mif\u001b[39;00m \u001b[38;5;28;01mnot\u001b[39;00m hasattr(iterable, \u001b[33m'__len__'\u001b[39m):\n",
      "\u001b[92m    478\u001b[39m             iterable = list(iterable)\n",
      "\u001b[92m    479\u001b[39m \n",
      "\u001b[92m    480\u001b[39m         \u001b[38;5;28;01mif\u001b[39;00m chunksize \u001b[38;5;28;01mis\u001b[39;00m \u001b[38;5;28;01mNone\u001b[39;00m:\n",
      "\u001b[92m    481\u001b[39m             chunksize, extra = divmod(len(iterable), len(self._pool) * \u001b[32m4\u001b[39m)\n",
      "\u001b[92m    482\u001b[39m             \u001b[38;5;28;01mif\u001b[39;00m extra:\n",
      "\n"
     ]
    },
    {
     "name": "stdin",
     "output_type": "stream",
     "text": [
      "ipdb>  \n"
     ]
    },
    {
     "name": "stdout",
     "output_type": "stream",
     "text": [
      "\u001b[92m    483\u001b[39m                 chunksize += \u001b[32m1\u001b[39m\n",
      "\u001b[92m    484\u001b[39m         \u001b[38;5;28;01mif\u001b[39;00m len(iterable) == \u001b[32m0\u001b[39m:\n",
      "\u001b[92m    485\u001b[39m             chunksize = \u001b[32m0\u001b[39m\n",
      "\u001b[92m    486\u001b[39m \n",
      "\u001b[92m    487\u001b[39m         task_batches = Pool._get_tasks(func, iterable, chunksize)\n",
      "\u001b[92m    488\u001b[39m         result = MapResult(self, chunksize, len(iterable), callback,\n",
      "\u001b[92m    489\u001b[39m                            error_callback=error_callback)\n",
      "\u001b[92m    490\u001b[39m         self._taskqueue.put(\n",
      "\u001b[92m    491\u001b[39m             (\n",
      "\u001b[92m    492\u001b[39m                 self._guarded_task_generation(result._job,\n",
      "\u001b[92m    493\u001b[39m                                               mapper,\n",
      "\n"
     ]
    },
    {
     "name": "stdin",
     "output_type": "stream",
     "text": [
      "ipdb>  n\n"
     ]
    },
    {
     "name": "stdout",
     "output_type": "stream",
     "text": [
      "> \u001b[32m/Users/isaacrehg/workspace/jupyter-distributed/.venv/lib/python3.11/site-packages/multiprocess/pool.py\u001b[39m(\u001b[92m480\u001b[39m)\u001b[36m_map_async\u001b[39m\u001b[34m()\u001b[39m\n",
      "\u001b[32m    478\u001b[39m             iterable = list(iterable)\n",
      "\u001b[32m    479\u001b[39m \n",
      "\u001b[32m--> 480\u001b[39m         \u001b[38;5;28;01mif\u001b[39;00m chunksize \u001b[38;5;28;01mis\u001b[39;00m \u001b[38;5;28;01mNone\u001b[39;00m:\n",
      "\u001b[32m    481\u001b[39m             chunksize, extra = divmod(len(iterable), len(self._pool) * \u001b[32m4\u001b[39m)\n",
      "\u001b[32m    482\u001b[39m             \u001b[38;5;28;01mif\u001b[39;00m extra:\n",
      "\n"
     ]
    },
    {
     "name": "stdin",
     "output_type": "stream",
     "text": [
      "ipdb>  n\n"
     ]
    },
    {
     "name": "stdout",
     "output_type": "stream",
     "text": [
      "> \u001b[32m/Users/isaacrehg/workspace/jupyter-distributed/.venv/lib/python3.11/site-packages/multiprocess/pool.py\u001b[39m(\u001b[92m481\u001b[39m)\u001b[36m_map_async\u001b[39m\u001b[34m()\u001b[39m\n",
      "\u001b[32m    479\u001b[39m \n",
      "\u001b[32m    480\u001b[39m         \u001b[38;5;28;01mif\u001b[39;00m chunksize \u001b[38;5;28;01mis\u001b[39;00m \u001b[38;5;28;01mNone\u001b[39;00m:\n",
      "\u001b[32m--> 481\u001b[39m             chunksize, extra = divmod(len(iterable), len(self._pool) * \u001b[32m4\u001b[39m)\n",
      "\u001b[32m    482\u001b[39m             \u001b[38;5;28;01mif\u001b[39;00m extra:\n",
      "\u001b[32m    483\u001b[39m                 chunksize += \u001b[32m1\u001b[39m\n",
      "\n"
     ]
    },
    {
     "name": "stdin",
     "output_type": "stream",
     "text": [
      "ipdb>  n\n"
     ]
    },
    {
     "name": "stdout",
     "output_type": "stream",
     "text": [
      "> \u001b[32m/Users/isaacrehg/workspace/jupyter-distributed/.venv/lib/python3.11/site-packages/multiprocess/pool.py\u001b[39m(\u001b[92m482\u001b[39m)\u001b[36m_map_async\u001b[39m\u001b[34m()\u001b[39m\n",
      "\u001b[32m    480\u001b[39m         \u001b[38;5;28;01mif\u001b[39;00m chunksize \u001b[38;5;28;01mis\u001b[39;00m \u001b[38;5;28;01mNone\u001b[39;00m:\n",
      "\u001b[32m    481\u001b[39m             chunksize, extra = divmod(len(iterable), len(self._pool) * \u001b[32m4\u001b[39m)\n",
      "\u001b[32m--> 482\u001b[39m             \u001b[38;5;28;01mif\u001b[39;00m extra:\n",
      "\u001b[32m    483\u001b[39m                 chunksize += \u001b[32m1\u001b[39m\n",
      "\u001b[32m    484\u001b[39m         \u001b[38;5;28;01mif\u001b[39;00m len(iterable) == \u001b[32m0\u001b[39m:\n",
      "\n"
     ]
    },
    {
     "name": "stdin",
     "output_type": "stream",
     "text": [
      "ipdb>  n\n"
     ]
    },
    {
     "name": "stdout",
     "output_type": "stream",
     "text": [
      "> \u001b[32m/Users/isaacrehg/workspace/jupyter-distributed/.venv/lib/python3.11/site-packages/multiprocess/pool.py\u001b[39m(\u001b[92m483\u001b[39m)\u001b[36m_map_async\u001b[39m\u001b[34m()\u001b[39m\n",
      "\u001b[32m    481\u001b[39m             chunksize, extra = divmod(len(iterable), len(self._pool) * \u001b[32m4\u001b[39m)\n",
      "\u001b[32m    482\u001b[39m             \u001b[38;5;28;01mif\u001b[39;00m extra:\n",
      "\u001b[32m--> 483\u001b[39m                 chunksize += \u001b[32m1\u001b[39m\n",
      "\u001b[32m    484\u001b[39m         \u001b[38;5;28;01mif\u001b[39;00m len(iterable) == \u001b[32m0\u001b[39m:\n",
      "\u001b[32m    485\u001b[39m             chunksize = \u001b[32m0\u001b[39m\n",
      "\n"
     ]
    },
    {
     "name": "stdin",
     "output_type": "stream",
     "text": [
      "ipdb>  n\n"
     ]
    },
    {
     "name": "stdout",
     "output_type": "stream",
     "text": [
      "> \u001b[32m/Users/isaacrehg/workspace/jupyter-distributed/.venv/lib/python3.11/site-packages/multiprocess/pool.py\u001b[39m(\u001b[92m484\u001b[39m)\u001b[36m_map_async\u001b[39m\u001b[34m()\u001b[39m\n",
      "\u001b[32m    482\u001b[39m             \u001b[38;5;28;01mif\u001b[39;00m extra:\n",
      "\u001b[32m    483\u001b[39m                 chunksize += \u001b[32m1\u001b[39m\n",
      "\u001b[32m--> 484\u001b[39m         \u001b[38;5;28;01mif\u001b[39;00m len(iterable) == \u001b[32m0\u001b[39m:\n",
      "\u001b[32m    485\u001b[39m             chunksize = \u001b[32m0\u001b[39m\n",
      "\u001b[32m    486\u001b[39m \n",
      "\n"
     ]
    },
    {
     "name": "stdin",
     "output_type": "stream",
     "text": [
      "ipdb>  n\n"
     ]
    },
    {
     "name": "stdout",
     "output_type": "stream",
     "text": [
      "> \u001b[32m/Users/isaacrehg/workspace/jupyter-distributed/.venv/lib/python3.11/site-packages/multiprocess/pool.py\u001b[39m(\u001b[92m487\u001b[39m)\u001b[36m_map_async\u001b[39m\u001b[34m()\u001b[39m\n",
      "\u001b[32m    485\u001b[39m             chunksize = \u001b[32m0\u001b[39m\n",
      "\u001b[32m    486\u001b[39m \n",
      "\u001b[32m--> 487\u001b[39m         task_batches = Pool._get_tasks(func, iterable, chunksize)\n",
      "\u001b[32m    488\u001b[39m         result = MapResult(self, chunksize, len(iterable), callback,\n",
      "\u001b[32m    489\u001b[39m                            error_callback=error_callback)\n",
      "\n"
     ]
    },
    {
     "name": "stdin",
     "output_type": "stream",
     "text": [
      "ipdb>  n\n"
     ]
    },
    {
     "name": "stdout",
     "output_type": "stream",
     "text": [
      "> \u001b[32m/Users/isaacrehg/workspace/jupyter-distributed/.venv/lib/python3.11/site-packages/multiprocess/pool.py\u001b[39m(\u001b[92m488\u001b[39m)\u001b[36m_map_async\u001b[39m\u001b[34m()\u001b[39m\n",
      "\u001b[32m    486\u001b[39m \n",
      "\u001b[32m    487\u001b[39m         task_batches = Pool._get_tasks(func, iterable, chunksize)\n",
      "\u001b[32m--> 488\u001b[39m         result = MapResult(self, chunksize, len(iterable), callback,\n",
      "\u001b[32m    489\u001b[39m                            error_callback=error_callback)\n",
      "\u001b[32m    490\u001b[39m         self._taskqueue.put(\n",
      "\n"
     ]
    },
    {
     "name": "stdin",
     "output_type": "stream",
     "text": [
      "ipdb>  p iterable\n"
     ]
    },
    {
     "name": "stdout",
     "output_type": "stream",
     "text": [
      "[('', {}, 0), ('', {}, 1), ('', {}, 2), ('', {}, 3)]\n"
     ]
    },
    {
     "name": "stdin",
     "output_type": "stream",
     "text": [
      "ipdb>  n\n"
     ]
    },
    {
     "name": "stdout",
     "output_type": "stream",
     "text": [
      "> \u001b[32m/Users/isaacrehg/workspace/jupyter-distributed/.venv/lib/python3.11/site-packages/multiprocess/pool.py\u001b[39m(\u001b[92m489\u001b[39m)\u001b[36m_map_async\u001b[39m\u001b[34m()\u001b[39m\n",
      "\u001b[32m    487\u001b[39m         task_batches = Pool._get_tasks(func, iterable, chunksize)\n",
      "\u001b[32m    488\u001b[39m         result = MapResult(self, chunksize, len(iterable), callback,\n",
      "\u001b[32m--> 489\u001b[39m                            error_callback=error_callback)\n",
      "\u001b[32m    490\u001b[39m         self._taskqueue.put(\n",
      "\u001b[32m    491\u001b[39m             (\n",
      "\n"
     ]
    },
    {
     "name": "stdin",
     "output_type": "stream",
     "text": [
      "ipdb>  n\n"
     ]
    },
    {
     "name": "stdout",
     "output_type": "stream",
     "text": [
      "> \u001b[32m/Users/isaacrehg/workspace/jupyter-distributed/.venv/lib/python3.11/site-packages/multiprocess/pool.py\u001b[39m(\u001b[92m488\u001b[39m)\u001b[36m_map_async\u001b[39m\u001b[34m()\u001b[39m\n",
      "\u001b[32m    486\u001b[39m \n",
      "\u001b[32m    487\u001b[39m         task_batches = Pool._get_tasks(func, iterable, chunksize)\n",
      "\u001b[32m--> 488\u001b[39m         result = MapResult(self, chunksize, len(iterable), callback,\n",
      "\u001b[32m    489\u001b[39m                            error_callback=error_callback)\n",
      "\u001b[32m    490\u001b[39m         self._taskqueue.put(\n",
      "\n"
     ]
    },
    {
     "name": "stdin",
     "output_type": "stream",
     "text": [
      "ipdb>  n\n"
     ]
    },
    {
     "name": "stdout",
     "output_type": "stream",
     "text": [
      "> \u001b[32m/Users/isaacrehg/workspace/jupyter-distributed/.venv/lib/python3.11/site-packages/multiprocess/pool.py\u001b[39m(\u001b[92m490\u001b[39m)\u001b[36m_map_async\u001b[39m\u001b[34m()\u001b[39m\n",
      "\u001b[32m    488\u001b[39m         result = MapResult(self, chunksize, len(iterable), callback,\n",
      "\u001b[32m    489\u001b[39m                            error_callback=error_callback)\n",
      "\u001b[32m--> 490\u001b[39m         self._taskqueue.put(\n",
      "\u001b[32m    491\u001b[39m             (\n",
      "\u001b[32m    492\u001b[39m                 self._guarded_task_generation(result._job,\n",
      "\n"
     ]
    },
    {
     "name": "stdin",
     "output_type": "stream",
     "text": [
      "ipdb>  l\n"
     ]
    },
    {
     "name": "stdout",
     "output_type": "stream",
     "text": [
      "\u001b[92m    485\u001b[39m             chunksize = \u001b[32m0\u001b[39m\n",
      "\u001b[92m    486\u001b[39m \n",
      "\u001b[92m    487\u001b[39m         task_batches = Pool._get_tasks(func, iterable, chunksize)\n",
      "\u001b[92m    488\u001b[39m         result = MapResult(self, chunksize, len(iterable), callback,\n",
      "\u001b[92m    489\u001b[39m                            error_callback=error_callback)\n",
      "\u001b[32m--> 490\u001b[39m         self._taskqueue.put(\n",
      "\u001b[92m    491\u001b[39m             (\n",
      "\u001b[92m    492\u001b[39m                 self._guarded_task_generation(result._job,\n",
      "\u001b[92m    493\u001b[39m                                               mapper,\n",
      "\u001b[92m    494\u001b[39m                                               task_batches),\n",
      "\u001b[92m    495\u001b[39m                 \u001b[38;5;28;01mNone\u001b[39;00m\n",
      "\n"
     ]
    },
    {
     "name": "stdin",
     "output_type": "stream",
     "text": [
      "ipdb>  \n"
     ]
    },
    {
     "name": "stdout",
     "output_type": "stream",
     "text": [
      "\u001b[92m    496\u001b[39m             )\n",
      "\u001b[92m    497\u001b[39m         )\n",
      "\u001b[92m    498\u001b[39m         \u001b[38;5;28;01mreturn\u001b[39;00m result\n",
      "\u001b[92m    499\u001b[39m \n",
      "\u001b[92m    500\u001b[39m     @staticmethod\n",
      "\u001b[92m    501\u001b[39m     \u001b[38;5;28;01mdef\u001b[39;00m _wait_for_updates(sentinels, change_notifier, timeout=\u001b[38;5;28;01mNone\u001b[39;00m):\n",
      "\u001b[92m    502\u001b[39m         wait(sentinels, timeout=timeout)\n",
      "\u001b[92m    503\u001b[39m         \u001b[38;5;28;01mwhile\u001b[39;00m \u001b[38;5;28;01mnot\u001b[39;00m change_notifier.empty():\n",
      "\u001b[92m    504\u001b[39m             change_notifier.get()\n",
      "\u001b[92m    505\u001b[39m \n",
      "\u001b[92m    506\u001b[39m     @classmethod\n",
      "\n"
     ]
    }
   ],
   "source": [
    "%%distribute 4\n",
    "import os\n",
    "import time\n",
    "\n",
    "# Each process gets a unique __process_id__\n",
    "process_id = __process_id__\n",
    "result = f\"Hello from process {process_id}! PID: {os.getpid()}\"\n",
    "print(result)\n",
    "\n",
    "# Variables set here will be available in subsequent %distribute calls\n",
    "computation_result = process_id ** 2"
   ]
  },
  {
   "cell_type": "code",
   "execution_count": null,
   "id": "adc4c86e-367d-41a9-a577-8e3cf2cdb366",
   "metadata": {},
   "outputs": [],
   "source": []
  }
 ],
 "metadata": {
  "kernelspec": {
   "display_name": "Python 3 (ipykernel)",
   "language": "python",
   "name": "python3"
  },
  "language_info": {
   "codemirror_mode": {
    "name": "ipython",
    "version": 3
   },
   "file_extension": ".py",
   "mimetype": "text/x-python",
   "name": "python",
   "nbconvert_exporter": "python",
   "pygments_lexer": "ipython3",
   "version": "3.11.11"
  }
 },
 "nbformat": 4,
 "nbformat_minor": 5
}
