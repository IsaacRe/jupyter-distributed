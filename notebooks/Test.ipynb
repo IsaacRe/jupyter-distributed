{
 "cells": [
  {
   "cell_type": "code",
   "execution_count": 1,
   "id": "94a49764-8332-41e7-9f41-876db00a6be5",
   "metadata": {},
   "outputs": [],
   "source": [
    "import multiprocess as mp"
   ]
  },
  {
   "cell_type": "code",
   "execution_count": 2,
   "id": "7037e534-337a-42bd-9645-8608ab3d759e",
   "metadata": {},
   "outputs": [
    {
     "name": "stdout",
     "output_type": "stream",
     "text": [
      "hello from proc 0hello from proc 2hello from proc 1hello from proc 3\n",
      "\n",
      "\n",
      "\n"
     ]
    }
   ],
   "source": [
    "np = 4\n",
    "pool = mp.Pool(np)"
   ]
  },
  {
   "cell_type": "code",
   "execution_count": 4,
   "id": "cb668beb-8771-45e9-bc35-e413544a2161",
   "metadata": {},
   "outputs": [
    {
     "data": {
      "text/plain": [
       "[None, None, None, None]"
      ]
     },
     "execution_count": 4,
     "metadata": {},
     "output_type": "execute_result"
    }
   ],
   "source": [
    "def process(args):\n",
    "    code, namespace, proc_id = args\n",
    "    print(f'hello from proc {proc_id}')\n",
    "\n",
    "args = [('', {}, i) for i in range(np)]\n",
    "\n",
    "pool.map(process, args)"
   ]
  },
  {
   "cell_type": "code",
   "execution_count": 1,
   "id": "04345701-9d5b-499c-a99d-a93ec7f3bec6",
   "metadata": {},
   "outputs": [
    {
     "name": "stdout",
     "output_type": "stream",
     "text": [
      "Jupyter Distributed extension loaded. Use %distribute n to run cells in parallel.\n"
     ]
    }
   ],
   "source": [
    "%load_ext jupyter_distributed"
   ]
  },
  {
   "cell_type": "code",
   "execution_count": 2,
   "id": "a035ed18-db47-457f-b83b-281220c3e86b",
   "metadata": {},
   "outputs": [
    {
     "name": "stdout",
     "output_type": "stream",
     "text": [
      "Distributing execution across 4 processes...\n",
      "\n",
      "--- Output from Process 0 ---\n",
      "Hello from process 0! PID: 52001\n",
      "--- End Process 0 Output ---\n",
      "\n",
      "--- Output from Process 1 ---\n",
      "Hello from process 1! PID: 52002\n",
      "--- End Process 1 Output ---\n",
      "\n",
      "--- Output from Process 2 ---\n",
      "Hello from process 2! PID: 52003\n",
      "--- End Process 2 Output ---\n",
      "\n",
      "--- Output from Process 3 ---\n",
      "Hello from process 3! PID: 52004\n",
      "--- End Process 3 Output ---\n",
      "\n",
      "Successfully executed in all 4 processes\n",
      "Execution time: 0.00 seconds\n",
      "Variables assigned: process_id, result, computation_result\n"
     ]
    }
   ],
   "source": [
    "%%distribute 4\n",
    "import os\n",
    "import time\n",
    "\n",
    "# Each process gets a unique __process_id__\n",
    "process_id = __process_id__\n",
    "result = f\"Hello from process {process_id}! PID: {os.getpid()}\"\n",
    "print(result)\n",
    "\n",
    "# Variables set here will be available in subsequent %distribute calls\n",
    "computation_result = process_id ** 2"
   ]
  },
  {
   "cell_type": "code",
   "execution_count": 3,
   "id": "adc4c86e-367d-41a9-a577-8e3cf2cdb366",
   "metadata": {},
   "outputs": [
    {
     "name": "stdout",
     "output_type": "stream",
     "text": [
      "Distributing execution across 4 processes...\n",
      "Successfully executed in all 4 processes\n",
      "Execution time: 0.00 seconds\n"
     ]
    }
   ],
   "source": [
    "%%distribute 4\n",
    "os.environ['PROCESS_ID'] = str(__process_id__)"
   ]
  },
  {
   "cell_type": "code",
   "execution_count": 4,
   "id": "06c9f01d-5012-47ca-81bb-2eca5f1ef689",
   "metadata": {},
   "outputs": [
    {
     "name": "stdout",
     "output_type": "stream",
     "text": [
      "Distributing execution across 4 processes...\n",
      "\n",
      "--- Output from Process 0 ---\n",
      "[Process 0] 0\n",
      "--- End Process 0 Output ---\n",
      "\n",
      "--- Output from Process 1 ---\n",
      "[Process 1] 1\n",
      "--- End Process 1 Output ---\n",
      "\n",
      "--- Output from Process 2 ---\n",
      "[Process 2] 2\n",
      "--- End Process 2 Output ---\n",
      "\n",
      "--- Output from Process 3 ---\n",
      "[Process 3] 3\n",
      "--- End Process 3 Output ---\n",
      "Successfully executed in all 4 processes\n",
      "Execution time: 0.01 seconds\n"
     ]
    }
   ],
   "source": [
    "%%distribute 4\n",
    "print(os.getenv('PROCESS_ID'))"
   ]
  },
  {
   "cell_type": "code",
   "execution_count": null,
   "id": "8d11f361-1a77-4bae-a2c5-421e8fe543ca",
   "metadata": {},
   "outputs": [],
   "source": []
  }
 ],
 "metadata": {
  "kernelspec": {
   "display_name": "Python 3 (ipykernel)",
   "language": "python",
   "name": "python3"
  },
  "language_info": {
   "codemirror_mode": {
    "name": "ipython",
    "version": 3
   },
   "file_extension": ".py",
   "mimetype": "text/x-python",
   "name": "python",
   "nbconvert_exporter": "python",
   "pygments_lexer": "ipython3",
   "version": "3.11.11"
  }
 },
 "nbformat": 4,
 "nbformat_minor": 5
}
