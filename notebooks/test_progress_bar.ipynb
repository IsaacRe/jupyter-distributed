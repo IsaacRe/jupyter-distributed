{
 "cells": [
  {
   "cell_type": "code",
   "execution_count": 1,
   "metadata": {},
   "outputs": [
    {
     "name": "stdout",
     "output_type": "stream",
     "text": [
      "Jupyter Distributed extension with persistent processes loaded.\n"
     ]
    }
   ],
   "source": [
    "%load_ext jupyter_distributed"
   ]
  },
  {
   "cell_type": "code",
   "execution_count": 2,
   "metadata": {},
   "outputs": [
    {
     "name": "stdout",
     "output_type": "stream",
     "text": [
      "Distributing execution across 4 persistent processes...\n",
      "[Process 0]   0%|          | 0/10 [00:00<?, ?it/s]\n",
      "[Process 1]   0%|          | 0/10 [00:00<?, ?it/s]\n",
      "[Process 2]   0%|          | 0/10 [00:00<?, ?it/s]\n",
      "[Process 3]   0%|          | 0/10 [00:00<?, ?it/s]\n",
      "[Process 1]  10%|#         | 1/10 [00:00<00:00,  9.51it/s]\n",
      "[Process 2]  10%|#         | 1/10 [00:00<00:00,  9.84it/s]\n",
      "[Process 3]  10%|#         | 1/10 [00:00<00:00,  9.93it/s]\n",
      "[Process 0]  10%|#         | 1/10 [00:00<00:00,  9.52it/s]\n",
      "[Process 2]  20%|##        | 2/10 [00:00<00:00,  9.72it/s]\n",
      "[Process 3]  20%|##        | 2/10 [00:00<00:00,  9.71it/s]\n",
      "[Process 0]  20%|##        | 2/10 [00:00<00:00,  9.51it/s]\n",
      "[Process 1]  20%|##        | 2/10 [00:00<00:00,  9.51it/s]\n",
      "[Process 3]  30%|###       | 3/10 [00:00<00:00,  9.77it/s]\n",
      "[Process 0]  30%|###       | 3/10 [00:00<00:00,  9.69it/s]\n",
      "[Process 1]  30%|###       | 3/10 [00:00<00:00,  9.61it/s]\n",
      "[Process 2]  30%|###       | 3/10 [00:00<00:00,  9.69it/s]\n",
      "[Process 3]  40%|####      | 4/10 [00:00<00:00,  9.72it/s]\n",
      "[Process 0]  40%|####      | 4/10 [00:00<00:00,  9.54it/s]\n",
      "[Process 1]  40%|####      | 4/10 [00:00<00:00,  9.58it/s]\n",
      "[Process 2]  40%|####      | 4/10 [00:00<00:00,  9.70it/s]\n",
      "[Process 3]  50%|#####     | 5/10 [00:00<00:00,  9.63it/s]\n",
      "[Process 0]  50%|#####     | 5/10 [00:00<00:00,  9.50it/s]\n",
      "[Process 1]  50%|#####     | 5/10 [00:00<00:00,  9.68it/s]\n",
      "[Process 2]  50%|#####     | 5/10 [00:00<00:00,  9.65it/s]\n",
      "[Process 3]  60%|######    | 6/10 [00:00<00:00,  9.73it/s]\n",
      "[Process 0]  60%|######    | 6/10 [00:00<00:00,  9.49it/s]\n",
      "[Process 1]  60%|######    | 6/10 [00:00<00:00,  9.62it/s]\n",
      "[Process 2]  60%|######    | 6/10 [00:00<00:00,  9.69it/s]\n",
      "[Process 3]  70%|#######   | 7/10 [00:00<00:00,  9.76it/s]\n",
      "[Process 1]  70%|#######   | 7/10 [00:00<00:00,  9.57it/s]\n",
      "[Process 2]  70%|#######   | 7/10 [00:00<00:00,  9.59it/s]\n",
      "[Process 0]  70%|#######   | 7/10 [00:00<00:00,  9.43it/s]\n",
      "[Process 3]  80%|########  | 8/10 [00:00<00:00,  9.66it/s]\n",
      "[Process 1]  80%|########  | 8/10 [00:00<00:00,  9.68it/s]\n",
      "[Process 2]  80%|########  | 8/10 [00:00<00:00,  9.67it/s]\n",
      "[Process 0]  80%|########  | 8/10 [00:00<00:00,  9.49it/s]\n",
      "[Process 1]  90%|######### | 9/10 [00:00<00:00,  9.61it/s]\n",
      "[Process 2]  90%|######### | 9/10 [00:00<00:00,  9.59it/s]\n",
      "[Process 3]  90%|######### | 9/10 [00:00<00:00,  9.70it/s]\n",
      "[Process 0]  90%|######### | 9/10 [00:00<00:00,  9.59it/s]\n",
      "[Process 1] 100%|##########| 10/10 [00:01<00:00,  9.58it/s]\n",
      "[Process 2] 100%|##########| 10/10 [00:01<00:00,  9.56it/s]\n",
      "[Process 3] 100%|##########| 10/10 [00:01<00:00,  9.63it/s]\n",
      "[Process 0] 100%|##########| 10/10 [00:01<00:00,  9.67it/s]\n",
      "[Process 1] \n",
      "[Process 2] \n",
      "[Process 3] \n",
      "[Process 0] \n",
      "[Process 1] 100%|##########| 10/10 [00:01<00:00,  9.59it/s]\n",
      "[Process 2] 100%|##########| 10/10 [00:01<00:00,  9.62it/s]\n",
      "[Process 3] 100%|##########| 10/10 [00:01<00:00,  9.68it/s]\n",
      "[Process 0] 100%|##########| 10/10 [00:01<00:00,  9.55it/s]\n",
      "[Process 1] \n",
      "\n",
      "[Process 2] \n",
      "\n",
      "[Process 3] \n",
      "\n",
      "[Process 0] \n",
      "\n",
      "Successfully executed in all 4 processes\n",
      "Execution time: 1.21 seconds\n"
     ]
    }
   ],
   "source": [
    "%%distribute 4\n",
    "import time\n",
    "from tqdm.auto import tqdm\n",
    "\n",
    "for i in tqdm(range(10)):\n",
    "    time.sleep(0.1)"
   ]
  },
  {
   "cell_type": "code",
   "execution_count": null,
   "metadata": {},
   "outputs": [],
   "source": []
  }
 ],
 "metadata": {
  "kernelspec": {
   "display_name": "Python 3 (ipykernel)",
   "language": "python",
   "name": "python3"
  },
  "language_info": {
   "codemirror_mode": {
    "name": "ipython",
    "version": 3
   },
   "file_extension": ".py",
   "mimetype": "text/x-python",
   "name": "python",
   "nbconvert_exporter": "python",
   "pygments_lexer": "ipython3",
   "version": "3.11.11"
  }
 },
 "nbformat": 4,
 "nbformat_minor": 4
}
