{
 "cells": [
  {
   "cell_type": "markdown",
   "metadata": {},
   "source": [
    "# Jupyter Distributed Extension - Basic Usage\n",
    "\n",
    "This notebook demonstrates the basic usage of the `%distribute` magic command."
   ]
  },
  {
   "cell_type": "code",
   "execution_count": null,
   "metadata": {},
   "outputs": [],
   "source": [
    "# Load the extension\n",
    "%load_ext jupyter_distributed"
   ]
  },
  {
   "cell_type": "markdown",
   "metadata": {},
   "source": [
    "## Basic Parallel Execution\n",
    "\n",
    "Use `%distribute n` to run a cell across n processes:"
   ]
  },
  {
   "cell_type": "code",
   "execution_count": null,
   "metadata": {},
   "outputs": [],
   "source": [
    "%%distribute 4\n",
    "import os\n",
    "import time\n",
    "\n",
    "# Each process will have a unique process ID\n",
    "process_id = __process_id__\n",
    "result = f\"Hello from process {process_id}! PID: {os.getpid()}\"\n",
    "print(result)\n",
    "\n",
    "# Simulate some work\n",
    "time.sleep(1)\n",
    "computation_result = process_id ** 2"
   ]
  },
  {
   "cell_type": "markdown",
   "metadata": {},
   "source": [
    "## Variable Persistence\n",
    "\n",
    "Variables set in distributed cells are available in subsequent distributed calls:"
   ]
  },
  {
   "cell_type": "code",
   "execution_count": null,
   "metadata": {},
   "outputs": [],
   "source": [
    "%%distribute 4\n",
    "# The variables from the previous cell are still available\n",
    "print(f\"Process {__process_id__}: Previous result was {computation_result}\")\n",
    "new_result = computation_result * 10\n",
    "print(f\"Process {__process_id__}: New result is {new_result}\")"
   ]
  },
  {
   "cell_type": "markdown",
   "metadata": {},
   "source": [
    "## Synchronization\n",
    "\n",
    "Use the `--sync` flag to synchronize variables across all processes:"
   ]
  },
  {
   "cell_type": "code",
   "execution_count": null,
   "metadata": {},
   "outputs": [],
   "source": [
    "%%distribute 4 --sync\n",
    "# Only process 0 will set this variable initially\n",
    "if __process_id__ == 0:\n",
    "    shared_data = \"This will be shared across all processes\"\n",
    "    shared_number = 42\n",
    "\n",
    "print(f\"Process {__process_id__} finished\")"
   ]
  },
  {
   "cell_type": "code",
   "execution_count": null,
   "metadata": {},
   "outputs": [],
   "source": [
    "%%distribute 4\n",
    "# Now all processes should have access to the shared variables\n",
    "try:\n",
    "    print(f\"Process {__process_id__}: shared_data = {shared_data}\")\n",
    "    print(f\"Process {__process_id__}: shared_number = {shared_number}\")\n",
    "except NameError as e:\n",
    "    print(f\"Process {__process_id__}: Variable not found - {e}\")"
   ]
  },
  {
   "cell_type": "markdown",
   "metadata": {},
   "source": [
    "## Timeout Example\n",
    "\n",
    "Use the `--timeout` flag to set a maximum execution time:"
   ]
  },
  {
   "cell_type": "code",
   "execution_count": null,
   "metadata": {},
   "outputs": [],
   "source": [
    "%%distribute 2 --timeout 5\n",
    "import time\n",
    "\n",
    "# This will complete within the timeout\n",
    "print(f\"Process {__process_id__} starting work...\")\n",
    "time.sleep(2)\n",
    "print(f\"Process {__process_id__} completed work!\")\n",
    "quick_result = __process_id__ * 100"
   ]
  }
 ],
 "metadata": {
  "kernelspec": {
   "display_name": "Python 3",
   "language": "python",
   "name": "python3"
  },
  "language_info": {
   "codemirror_mode": {
    "name": "ipython",
    "version": 3
   },
   "file_extension": ".py",
   "mimetype": "text/x-python",
   "name": "python",
   "nbconvert_exporter": "python",
   "pygments_lexer": "ipython3",
   "version": "3.8.0"
  }
 },
 "nbformat": 4,
 "nbformat_minor": 4
}
